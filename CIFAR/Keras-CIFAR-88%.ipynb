{
 "cells": [
  {
   "cell_type": "markdown",
   "metadata": {},
   "source": [
    "## Use Pretrained model to improve accuracy"
   ]
  },
  {
   "cell_type": "code",
   "execution_count": 30,
   "metadata": {},
   "outputs": [],
   "source": [
    "from keras.datasets import cifar10\n",
    "from keras.models import Sequential,load_model\n",
    "from keras.layers import Dense, Conv2D, MaxPooling2D, Flatten,Dropout,BatchNormalization,GlobalAveragePooling2D\n",
    "from keras.utils import to_categorical\n",
    "from keras.callbacks import ModelCheckpoint,EarlyStopping,ReduceLROnPlateau\n",
    "from sklearn.model_selection import train_test_split\n",
    "from keras.applications import VGG16,InceptionV3,MobileNet,VGG19\n",
    "from keras.models import Model\n",
    "import scipy as sp\n",
    "import numpy as np\n",
    "from PIL import Image\n",
    "epochs = 20\n",
    "batch_size = 64\n",
    "num_classes = 10\n",
    "input_size = (64,64)"
   ]
  },
  {
   "cell_type": "code",
   "execution_count": 2,
   "metadata": {},
   "outputs": [],
   "source": [
    "(x_train,y_train),(x_test,y_test) = cifar10.load_data()"
   ]
  },
  {
   "cell_type": "code",
   "execution_count": 3,
   "metadata": {},
   "outputs": [],
   "source": [
    "X_train,X_val,Y_train,Y_val = train_test_split(x_train,y_train,test_size=0.2,random_state=11)"
   ]
  },
  {
   "cell_type": "code",
   "execution_count": 4,
   "metadata": {},
   "outputs": [],
   "source": [
    "Y_train = to_categorical(Y_train,num_classes)\n",
    "Y_test = to_categorical(y_test,num_classes)\n",
    "Y_val = to_categorical(Y_val,num_classes)"
   ]
  },
  {
   "cell_type": "code",
   "execution_count": 5,
   "metadata": {},
   "outputs": [],
   "source": [
    "X_train = np.array([np.array(Image.fromarray(x).resize((64,64))) for x in X_train])\n",
    "X_val = np.array([np.array(Image.fromarray(x).resize((64,64))) for x in X_val])\n",
    "X_test = np.array([np.array(Image.fromarray(x).resize((64,64))) for x in x_test])"
   ]
  },
  {
   "cell_type": "code",
   "execution_count": 7,
   "metadata": {},
   "outputs": [
    {
     "data": {
      "text/plain": [
       "\"base = MobileNet(weights = 'imagenet',\\n                    include_top = False,\\n                    input_shape = (64,64,3))\""
      ]
     },
     "execution_count": 7,
     "metadata": {},
     "output_type": "execute_result"
    }
   ],
   "source": [
    "base = VGG16(weights='imagenet',\n",
    "                    include_top=False,\n",
    "                    input_shape = (64,64,3))\n",
    "'''base = MobileNet(weights = 'imagenet',\n",
    "                    include_top = False,\n",
    "                    input_shape = (64,64,3))'''"
   ]
  },
  {
   "cell_type": "code",
   "execution_count": 12,
   "metadata": {
    "scrolled": true
   },
   "outputs": [
    {
     "name": "stdout",
     "output_type": "stream",
     "text": [
      "Model: \"vgg16\"\n",
      "_________________________________________________________________\n",
      "Layer (type)                 Output Shape              Param #   \n",
      "=================================================================\n",
      "input_1 (InputLayer)         (None, 64, 64, 3)         0         \n",
      "_________________________________________________________________\n",
      "block1_conv1 (Conv2D)        (None, 64, 64, 64)        1792      \n",
      "_________________________________________________________________\n",
      "block1_conv2 (Conv2D)        (None, 64, 64, 64)        36928     \n",
      "_________________________________________________________________\n",
      "block1_pool (MaxPooling2D)   (None, 32, 32, 64)        0         \n",
      "_________________________________________________________________\n",
      "block2_conv1 (Conv2D)        (None, 32, 32, 128)       73856     \n",
      "_________________________________________________________________\n",
      "block2_conv2 (Conv2D)        (None, 32, 32, 128)       147584    \n",
      "_________________________________________________________________\n",
      "block2_pool (MaxPooling2D)   (None, 16, 16, 128)       0         \n",
      "_________________________________________________________________\n",
      "block3_conv1 (Conv2D)        (None, 16, 16, 256)       295168    \n",
      "_________________________________________________________________\n",
      "block3_conv2 (Conv2D)        (None, 16, 16, 256)       590080    \n",
      "_________________________________________________________________\n",
      "block3_conv3 (Conv2D)        (None, 16, 16, 256)       590080    \n",
      "_________________________________________________________________\n",
      "block3_pool (MaxPooling2D)   (None, 8, 8, 256)         0         \n",
      "_________________________________________________________________\n",
      "block4_conv1 (Conv2D)        (None, 8, 8, 512)         1180160   \n",
      "_________________________________________________________________\n",
      "block4_conv2 (Conv2D)        (None, 8, 8, 512)         2359808   \n",
      "_________________________________________________________________\n",
      "block4_conv3 (Conv2D)        (None, 8, 8, 512)         2359808   \n",
      "_________________________________________________________________\n",
      "block4_pool (MaxPooling2D)   (None, 4, 4, 512)         0         \n",
      "_________________________________________________________________\n",
      "block5_conv1 (Conv2D)        (None, 4, 4, 512)         2359808   \n",
      "_________________________________________________________________\n",
      "block5_conv2 (Conv2D)        (None, 4, 4, 512)         2359808   \n",
      "_________________________________________________________________\n",
      "block5_conv3 (Conv2D)        (None, 4, 4, 512)         2359808   \n",
      "_________________________________________________________________\n",
      "block5_pool (MaxPooling2D)   (None, 2, 2, 512)         0         \n",
      "=================================================================\n",
      "Total params: 14,714,688\n",
      "Trainable params: 0\n",
      "Non-trainable params: 14,714,688\n",
      "_________________________________________________________________\n"
     ]
    }
   ],
   "source": [
    "base.summary()\n",
    "#base.layers.pop()\n",
    "inputs = base.layers[-6].output"
   ]
  },
  {
   "cell_type": "code",
   "execution_count": 13,
   "metadata": {},
   "outputs": [],
   "source": [
    "## fine tuning\n",
    "'''for layer in base.layers:\n",
    "    if layer.name == 'block5_conv1':\n",
    "        layer.tranable = True\n",
    "    else:\n",
    "        layer.trainable = False'''\n",
    "for layer in base.layers:\n",
    "    layer.trainable= False"
   ]
  },
  {
   "cell_type": "code",
   "execution_count": 62,
   "metadata": {
    "scrolled": true
   },
   "outputs": [],
   "source": [
    "'''x = Flatten()(inputs)\n",
    "x = BatchNormalization()(x)\n",
    "x = Dense(256,activation='relu')(x)'''\n",
    "x = Conv2D(512,(3,3),activation='relu')(inputs)\n",
    "x = GlobalAveragePooling2D()(x)\n",
    "x = BatchNormalization()(x)\n",
    "x = Dense(512,activation='relu')(x)\n",
    "x = Dropout(0.8)(x)\n",
    "x = BatchNormalization()(x)\n",
    "x = Dense(512,activation='relu')(x)\n",
    "x = Dropout(0.8)(x)\n",
    "x = BatchNormalization()(x)\n",
    "x = Dense(num_classes,activation='softmax')(x)\n",
    "model = Model(base.input,x)"
   ]
  },
  {
   "cell_type": "code",
   "execution_count": 63,
   "metadata": {},
   "outputs": [
    {
     "data": {
      "text/plain": [
       "14"
      ]
     },
     "execution_count": 63,
     "metadata": {},
     "output_type": "execute_result"
    }
   ],
   "source": [
    "len(model.trainable_weights)"
   ]
  },
  {
   "cell_type": "code",
   "execution_count": 64,
   "metadata": {
    "scrolled": true
   },
   "outputs": [
    {
     "name": "stdout",
     "output_type": "stream",
     "text": [
      "Model: \"model_9\"\n",
      "_________________________________________________________________\n",
      "Layer (type)                 Output Shape              Param #   \n",
      "=================================================================\n",
      "input_1 (InputLayer)         (None, 64, 64, 3)         0         \n",
      "_________________________________________________________________\n",
      "block1_conv1 (Conv2D)        (None, 64, 64, 64)        1792      \n",
      "_________________________________________________________________\n",
      "block1_conv2 (Conv2D)        (None, 64, 64, 64)        36928     \n",
      "_________________________________________________________________\n",
      "block1_pool (MaxPooling2D)   (None, 32, 32, 64)        0         \n",
      "_________________________________________________________________\n",
      "block2_conv1 (Conv2D)        (None, 32, 32, 128)       73856     \n",
      "_________________________________________________________________\n",
      "block2_conv2 (Conv2D)        (None, 32, 32, 128)       147584    \n",
      "_________________________________________________________________\n",
      "block2_pool (MaxPooling2D)   (None, 16, 16, 128)       0         \n",
      "_________________________________________________________________\n",
      "block3_conv1 (Conv2D)        (None, 16, 16, 256)       295168    \n",
      "_________________________________________________________________\n",
      "block3_conv2 (Conv2D)        (None, 16, 16, 256)       590080    \n",
      "_________________________________________________________________\n",
      "block3_conv3 (Conv2D)        (None, 16, 16, 256)       590080    \n",
      "_________________________________________________________________\n",
      "block3_pool (MaxPooling2D)   (None, 8, 8, 256)         0         \n",
      "_________________________________________________________________\n",
      "block4_conv1 (Conv2D)        (None, 8, 8, 512)         1180160   \n",
      "_________________________________________________________________\n",
      "block4_conv2 (Conv2D)        (None, 8, 8, 512)         2359808   \n",
      "_________________________________________________________________\n",
      "block4_conv3 (Conv2D)        (None, 8, 8, 512)         2359808   \n",
      "_________________________________________________________________\n",
      "conv2d_11 (Conv2D)           (None, 6, 6, 512)         2359808   \n",
      "_________________________________________________________________\n",
      "global_average_pooling2d_9 ( (None, 512)               0         \n",
      "_________________________________________________________________\n",
      "batch_normalization_9 (Batch (None, 512)               2048      \n",
      "_________________________________________________________________\n",
      "dense_22 (Dense)             (None, 512)               262656    \n",
      "_________________________________________________________________\n",
      "dropout_14 (Dropout)         (None, 512)               0         \n",
      "_________________________________________________________________\n",
      "batch_normalization_10 (Batc (None, 512)               2048      \n",
      "_________________________________________________________________\n",
      "dense_23 (Dense)             (None, 512)               262656    \n",
      "_________________________________________________________________\n",
      "dropout_15 (Dropout)         (None, 512)               0         \n",
      "_________________________________________________________________\n",
      "batch_normalization_11 (Batc (None, 512)               2048      \n",
      "_________________________________________________________________\n",
      "dense_24 (Dense)             (None, 10)                5130      \n",
      "=================================================================\n",
      "Total params: 10,531,658\n",
      "Trainable params: 2,893,322\n",
      "Non-trainable params: 7,638,336\n",
      "_________________________________________________________________\n"
     ]
    }
   ],
   "source": [
    "model.summary()"
   ]
  },
  {
   "cell_type": "code",
   "execution_count": 65,
   "metadata": {},
   "outputs": [],
   "source": [
    "model.compile(loss='categorical_crossentropy',\n",
    "             optimizer = 'adam',\n",
    "             metrics=['acc'],\n",
    "             )"
   ]
  },
  {
   "cell_type": "code",
   "execution_count": 66,
   "metadata": {},
   "outputs": [],
   "source": [
    "model_save_path = \"val_loss-{val_loss:.4f}-val_acc{val_acc:4f}.hdf5\"\n",
    "callbacks_list = [\n",
    "    EarlyStopping(\n",
    "        monitor='val_acc',\n",
    "        patience=7\n",
    "    ),\n",
    "    ModelCheckpoint(\n",
    "        model_save_path,\n",
    "        monitor='val_acc',\n",
    "        save_best_only = True\n",
    "    ),\n",
    "    ReduceLROnPlateau(\n",
    "        monitor='val_loss',\n",
    "        factor=0.1,\n",
    "        patience=5\n",
    "    )\n",
    "    \n",
    "]"
   ]
  },
  {
   "cell_type": "code",
   "execution_count": 67,
   "metadata": {
    "scrolled": true
   },
   "outputs": [
    {
     "name": "stdout",
     "output_type": "stream",
     "text": [
      "Train on 40000 samples, validate on 10000 samples\n",
      "Epoch 1/20\n",
      "40000/40000 [==============================] - 13s 325us/step - loss: 1.2533 - acc: 0.5701 - val_loss: 0.5759 - val_acc: 0.8038\n",
      "Epoch 2/20\n",
      "40000/40000 [==============================] - 12s 309us/step - loss: 0.7162 - acc: 0.7654 - val_loss: 0.4767 - val_acc: 0.8362\n",
      "Epoch 3/20\n",
      "40000/40000 [==============================] - 12s 307us/step - loss: 0.5682 - acc: 0.8162 - val_loss: 0.4481 - val_acc: 0.8483\n",
      "Epoch 4/20\n",
      "40000/40000 [==============================] - 12s 310us/step - loss: 0.4779 - acc: 0.8445 - val_loss: 0.4173 - val_acc: 0.8615\n",
      "Epoch 5/20\n",
      "40000/40000 [==============================] - 12s 310us/step - loss: 0.4137 - acc: 0.8655 - val_loss: 0.3993 - val_acc: 0.8643\n",
      "Epoch 6/20\n",
      "40000/40000 [==============================] - 12s 310us/step - loss: 0.3557 - acc: 0.8860 - val_loss: 0.4250 - val_acc: 0.8559\n",
      "Epoch 7/20\n",
      "40000/40000 [==============================] - 12s 311us/step - loss: 0.3031 - acc: 0.9037 - val_loss: 0.3882 - val_acc: 0.8698\n",
      "Epoch 8/20\n",
      "40000/40000 [==============================] - 12s 310us/step - loss: 0.2625 - acc: 0.9165 - val_loss: 0.4030 - val_acc: 0.8687\n",
      "Epoch 9/20\n",
      "40000/40000 [==============================] - 12s 311us/step - loss: 0.2297 - acc: 0.9277 - val_loss: 0.4128 - val_acc: 0.8636\n",
      "Epoch 10/20\n",
      "40000/40000 [==============================] - 12s 311us/step - loss: 0.2060 - acc: 0.9340 - val_loss: 0.4221 - val_acc: 0.8637\n",
      "Epoch 11/20\n",
      "40000/40000 [==============================] - 12s 310us/step - loss: 0.1770 - acc: 0.9430 - val_loss: 0.4543 - val_acc: 0.8627\n",
      "Epoch 12/20\n",
      "40000/40000 [==============================] - 12s 312us/step - loss: 0.1588 - acc: 0.9497 - val_loss: 0.4470 - val_acc: 0.8674\n",
      "Epoch 13/20\n",
      "40000/40000 [==============================] - 12s 310us/step - loss: 0.1251 - acc: 0.9604 - val_loss: 0.4108 - val_acc: 0.8761\n",
      "Epoch 14/20\n",
      "40000/40000 [==============================] - 12s 309us/step - loss: 0.0999 - acc: 0.9697 - val_loss: 0.4051 - val_acc: 0.8779\n",
      "Epoch 15/20\n",
      "40000/40000 [==============================] - 12s 308us/step - loss: 0.0873 - acc: 0.9737 - val_loss: 0.4123 - val_acc: 0.8794\n",
      "Epoch 16/20\n",
      "40000/40000 [==============================] - 12s 310us/step - loss: 0.0789 - acc: 0.9750 - val_loss: 0.4109 - val_acc: 0.8804\n",
      "Epoch 17/20\n",
      "40000/40000 [==============================] - 12s 310us/step - loss: 0.0671 - acc: 0.9796 - val_loss: 0.4133 - val_acc: 0.8814\n",
      "Epoch 18/20\n",
      "40000/40000 [==============================] - 12s 308us/step - loss: 0.0608 - acc: 0.9815 - val_loss: 0.4161 - val_acc: 0.8801\n",
      "Epoch 19/20\n",
      "40000/40000 [==============================] - 12s 310us/step - loss: 0.0591 - acc: 0.9819 - val_loss: 0.4141 - val_acc: 0.8818\n",
      "Epoch 20/20\n",
      "40000/40000 [==============================] - 12s 309us/step - loss: 0.0586 - acc: 0.9825 - val_loss: 0.4163 - val_acc: 0.8810\n"
     ]
    }
   ],
   "source": [
    "history = model.fit(X_train,Y_train,\n",
    "         batch_size = batch_size,\n",
    "         epochs = epochs,\n",
    "         validation_data = (X_val,Y_val),\n",
    "         callbacks = callbacks_list)"
   ]
  },
  {
   "cell_type": "code",
   "execution_count": 68,
   "metadata": {
    "scrolled": true
   },
   "outputs": [
    {
     "name": "stdout",
     "output_type": "stream",
     "text": [
      "10000/10000 [==============================] - 2s 249us/step\n"
     ]
    },
    {
     "data": {
      "text/plain": [
       "[0.3911371708214283, 0.8863999843597412]"
      ]
     },
     "execution_count": 68,
     "metadata": {},
     "output_type": "execute_result"
    }
   ],
   "source": [
    "tt = load_model('val_loss-0.3878-val_acc0.880500.hdf5')\n",
    "scores = tt.evaluate(X_test,Y_test,verbose=1)\n",
    "scores"
   ]
  },
  {
   "cell_type": "markdown",
   "metadata": {},
   "source": [
    "## VGG16 = 0.823, img_size = 48,48\n",
    "## VGG16 = 0.854, img_size = 64,64\n",
    "## VGG16 = 0.882, img_size = 64,64 --> with GAP\n"
   ]
  },
  {
   "cell_type": "markdown",
   "metadata": {},
   "source": [
    "## Done###\n",
    "\n",
    "* 기존 vgg모델의 출력층을 몇개씩 빼보면서 실험을 진행해봄 --> -2일때도 한번 해보자\n",
    "* 바닥부터 내맘대로 모델 만들어서도 시험해봄(정확도 대략 70?)\n",
    "* 70 --> 88까지 올림 kaggle 1등이 95니깐 가즈앗\n",
    "* train data 수가 부족하기때문에 Data augmentation 적용해보자 --> 잘 안오른다..\n",
    "\n",
    "## Todo ###"
   ]
  },
  {
   "cell_type": "code",
   "execution_count": 18,
   "metadata": {},
   "outputs": [
    {
     "name": "stdout",
     "output_type": "stream",
     "text": [
      "10000/10000 [==============================] - 2s 184us/step\n"
     ]
    }
   ],
   "source": [
    "predictions = tt.predict(X_test,verbose=1)"
   ]
  },
  {
   "cell_type": "code",
   "execution_count": 21,
   "metadata": {},
   "outputs": [
    {
     "data": {
      "text/plain": [
       "array([3, 8, 8, ..., 5, 1, 7])"
      ]
     },
     "execution_count": 21,
     "metadata": {},
     "output_type": "execute_result"
    }
   ],
   "source": [
    "predicted_classes = np.argmax(predictions,axis=1)\n",
    "predicted_classes"
   ]
  },
  {
   "cell_type": "code",
   "execution_count": 36,
   "metadata": {},
   "outputs": [
    {
     "name": "stdout",
     "output_type": "stream",
     "text": [
      "              precision    recall  f1-score   support\n",
      "\n",
      "     class 0       0.89      0.92      0.91      1000\n",
      "     class 1       0.96      0.92      0.94      1000\n",
      "     class 2       0.92      0.81      0.86      1000\n",
      "     class 3       0.78      0.73      0.75      1000\n",
      "     class 4       0.88      0.87      0.88      1000\n",
      "     class 5       0.78      0.81      0.79      1000\n",
      "     class 6       0.90      0.93      0.92      1000\n",
      "     class 7       0.90      0.93      0.92      1000\n",
      "     class 8       0.92      0.96      0.94      1000\n",
      "     class 9       0.91      0.94      0.93      1000\n",
      "\n",
      "    accuracy                           0.88     10000\n",
      "   macro avg       0.88      0.88      0.88     10000\n",
      "weighted avg       0.88      0.88      0.88     10000\n",
      "\n"
     ]
    }
   ],
   "source": [
    "from sklearn.metrics import classification_report\n",
    "print(classification_report(yy,predicted_classes, target_names=['class 0', 'class 1','class 2', 'class 3','class 4', 'class 5','class 6', 'class 7','class 8', 'class 9']))\n"
   ]
  },
  {
   "cell_type": "code",
   "execution_count": null,
   "metadata": {},
   "outputs": [],
   "source": []
  }
 ],
 "metadata": {
  "kernelspec": {
   "display_name": "Python 3",
   "language": "python",
   "name": "python3"
  },
  "language_info": {
   "codemirror_mode": {
    "name": "ipython",
    "version": 3
   },
   "file_extension": ".py",
   "mimetype": "text/x-python",
   "name": "python",
   "nbconvert_exporter": "python",
   "pygments_lexer": "ipython3",
   "version": "3.6.9"
  }
 },
 "nbformat": 4,
 "nbformat_minor": 2
}
