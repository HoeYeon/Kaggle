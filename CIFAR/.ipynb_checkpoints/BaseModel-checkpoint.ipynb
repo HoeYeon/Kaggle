{
 "cells": [
  {
   "cell_type": "code",
   "execution_count": 47,
   "metadata": {},
   "outputs": [],
   "source": [
    "from keras.datasets import cifar10\n",
    "from keras.models import Sequential\n",
    "from keras.layers import Dense, Conv2D, MaxPooling2D, Flatten,Dropout\n",
    "from keras.utils import to_categorical\n",
    "from keras.callbacks import ModelCheckpoint,EarlyStopping,ReduceLROnPlateau\n",
    "epochs = 20\n",
    "batch_size = 64\n",
    "num_classes = 10"
   ]
  },
  {
   "cell_type": "code",
   "execution_count": 2,
   "metadata": {},
   "outputs": [
    {
     "name": "stdout",
     "output_type": "stream",
     "text": [
      "Downloading data from https://www.cs.toronto.edu/~kriz/cifar-10-python.tar.gz\n",
      "170500096/170498071 [==============================] - 63s 0us/step\n"
     ]
    }
   ],
   "source": [
    "(x_train,y_train),(x_test,y_test) = cifar10.load_data()"
   ]
  },
  {
   "cell_type": "code",
   "execution_count": 11,
   "metadata": {
    "scrolled": true
   },
   "outputs": [
    {
     "name": "stdout",
     "output_type": "stream",
     "text": [
      "50000\n",
      "10000\n",
      "(32, 32, 3)\n"
     ]
    }
   ],
   "source": [
    "print(len(y_train))\n",
    "print(len(y_test))\n",
    "print(x_train.shape[1:])"
   ]
  },
  {
   "cell_type": "code",
   "execution_count": 28,
   "metadata": {},
   "outputs": [],
   "source": [
    "Y_train = to_categorical(y_train,num_classes)\n",
    "Y_test = to_categorical(y_test,num_classes)"
   ]
  },
  {
   "cell_type": "code",
   "execution_count": 83,
   "metadata": {},
   "outputs": [],
   "source": [
    "model_save_path = \"model_\"+ \"_epoch-{epoch:02d}_val_loss-{val_loss:.4f}.hdf5\"\n",
    "callbacks_list = [\n",
    "    EarlyStopping(\n",
    "        monitor='val_acc',\n",
    "        patience=4\n",
    "    ),\n",
    "    ModelCheckpoint(\n",
    "        model_save_path,\n",
    "        monitor='val_acc',\n",
    "        save_best_only = True\n",
    "    )\n",
    "    \n",
    "]"
   ]
  },
  {
   "cell_type": "code",
   "execution_count": 84,
   "metadata": {},
   "outputs": [],
   "source": [
    "\n",
    "model = Sequential()\n",
    "model.add(Conv2D(32,(3,3),padding='same',input_shape = x_train.shape[1:],activation='relu'))\n",
    "model.add(MaxPooling2D(pool_size=(2,2)))\n",
    "#model.add(Dropout(0.5))\n",
    "model.add(Conv2D(32,(3,3),padding='same',input_shape = x_train.shape[1:],activation='relu'))\n",
    "model.add(MaxPooling2D(pool_size=(2,2)))\n",
    "model.add(Conv2D(32,(3,3),padding='same',input_shape = x_train.shape[1:],activation='relu'))\n",
    "model.add(MaxPooling2D(pool_size=(2,2)))\n",
    "#model.add(Dropout(0.25))\n",
    "model.add(Flatten())\n",
    "model.add(Dense(512,activation='relu'))\n",
    "model.add(Dropout(0.5))\n",
    "model.add(Dense(num_classes,activation='softmax'))\n",
    "\n",
    "model.compile(loss='categorical_crossentropy',\n",
    "             optimizer = 'adam',\n",
    "             metrics=['acc'],\n",
    "             )\n"
   ]
  },
  {
   "cell_type": "code",
   "execution_count": 85,
   "metadata": {},
   "outputs": [
    {
     "name": "stdout",
     "output_type": "stream",
     "text": [
      "Model: \"sequential_19\"\n",
      "_________________________________________________________________\n",
      "Layer (type)                 Output Shape              Param #   \n",
      "=================================================================\n",
      "conv2d_48 (Conv2D)           (None, 32, 32, 32)        896       \n",
      "_________________________________________________________________\n",
      "max_pooling2d_46 (MaxPooling (None, 16, 16, 32)        0         \n",
      "_________________________________________________________________\n",
      "conv2d_49 (Conv2D)           (None, 16, 16, 32)        9248      \n",
      "_________________________________________________________________\n",
      "max_pooling2d_47 (MaxPooling (None, 8, 8, 32)          0         \n",
      "_________________________________________________________________\n",
      "conv2d_50 (Conv2D)           (None, 8, 8, 32)          9248      \n",
      "_________________________________________________________________\n",
      "max_pooling2d_48 (MaxPooling (None, 4, 4, 32)          0         \n",
      "_________________________________________________________________\n",
      "flatten_17 (Flatten)         (None, 512)               0         \n",
      "_________________________________________________________________\n",
      "dense_32 (Dense)             (None, 512)               262656    \n",
      "_________________________________________________________________\n",
      "dropout_15 (Dropout)         (None, 512)               0         \n",
      "_________________________________________________________________\n",
      "dense_33 (Dense)             (None, 10)                5130      \n",
      "=================================================================\n",
      "Total params: 287,178\n",
      "Trainable params: 287,178\n",
      "Non-trainable params: 0\n",
      "_________________________________________________________________\n"
     ]
    }
   ],
   "source": [
    "model.summary()"
   ]
  },
  {
   "cell_type": "code",
   "execution_count": null,
   "metadata": {
    "scrolled": true
   },
   "outputs": [
    {
     "name": "stdout",
     "output_type": "stream",
     "text": [
      "Train on 50000 samples, validate on 10000 samples\n",
      "Epoch 1/20\n",
      "50000/50000 [==============================] - 5s 106us/step - loss: 2.0537 - acc: 0.3625 - val_loss: 1.5431 - val_acc: 0.4460\n",
      "Epoch 2/20\n",
      "50000/50000 [==============================] - 5s 104us/step - loss: 1.4173 - acc: 0.4885 - val_loss: 1.2590 - val_acc: 0.5459\n",
      "Epoch 3/20\n",
      "50000/50000 [==============================] - 5s 105us/step - loss: 1.2781 - acc: 0.5464 - val_loss: 1.1578 - val_acc: 0.5845\n",
      "Epoch 4/20\n",
      "50000/50000 [==============================] - 5s 102us/step - loss: 1.1666 - acc: 0.5862 - val_loss: 1.1060 - val_acc: 0.6132\n",
      "Epoch 5/20\n",
      "50000/50000 [==============================] - 5s 105us/step - loss: 1.0909 - acc: 0.6154 - val_loss: 1.0642 - val_acc: 0.6228\n",
      "Epoch 6/20\n",
      "50000/50000 [==============================] - 5s 103us/step - loss: 1.0319 - acc: 0.6385 - val_loss: 1.0825 - val_acc: 0.6221\n",
      "Epoch 7/20\n",
      "50000/50000 [==============================] - 5s 103us/step - loss: 0.9879 - acc: 0.6512 - val_loss: 1.0202 - val_acc: 0.6490\n",
      "Epoch 8/20\n",
      "50000/50000 [==============================] - 5s 104us/step - loss: 0.9508 - acc: 0.6667 - val_loss: 0.9926 - val_acc: 0.6666\n",
      "Epoch 9/20\n",
      "50000/50000 [==============================] - 5s 107us/step - loss: 0.9192 - acc: 0.6783 - val_loss: 1.0024 - val_acc: 0.6588\n",
      "Epoch 10/20\n",
      "50000/50000 [==============================] - 5s 106us/step - loss: 0.8902 - acc: 0.6861 - val_loss: 1.0149 - val_acc: 0.6582\n",
      "Epoch 11/20\n",
      "50000/50000 [==============================] - 5s 105us/step - loss: 0.8591 - acc: 0.6980 - val_loss: 1.0000 - val_acc: 0.6695\n",
      "Epoch 12/20\n",
      "50000/50000 [==============================] - 5s 106us/step - loss: 0.8307 - acc: 0.7097 - val_loss: 0.9883 - val_acc: 0.6705\n",
      "Epoch 13/20\n",
      "50000/50000 [==============================] - 5s 107us/step - loss: 0.8090 - acc: 0.7167 - val_loss: 1.0383 - val_acc: 0.6582\n",
      "Epoch 14/20\n",
      "50000/50000 [==============================] - 5s 104us/step - loss: 0.7918 - acc: 0.7210 - val_loss: 0.9887 - val_acc: 0.6805\n",
      "Epoch 15/20\n",
      "50000/50000 [==============================] - 5s 104us/step - loss: 0.7780 - acc: 0.7272 - val_loss: 0.9824 - val_acc: 0.6753\n",
      "Epoch 16/20\n",
      "30848/50000 [=================>............] - ETA: 1s - loss: 0.7368 - acc: 0.7415"
     ]
    }
   ],
   "source": [
    "history = model.fit(x_train,Y_train,\n",
    "         batch_size = batch_size,\n",
    "         epochs = epochs,\n",
    "         validation_data = (x_test,Y_test),\n",
    "         callbacks = callbacks_list)"
   ]
  },
  {
   "cell_type": "code",
   "execution_count": 82,
   "metadata": {},
   "outputs": [
    {
     "name": "stdout",
     "output_type": "stream",
     "text": [
      "10000/10000 [==============================] - 1s 74us/step\n"
     ]
    },
    {
     "data": {
      "text/plain": [
       "[1.0300351928710938, 0.6355000138282776]"
      ]
     },
     "execution_count": 82,
     "metadata": {},
     "output_type": "execute_result"
    }
   ],
   "source": [
    "scores = model.evaluate(x_test,Y_test,verbose=1)\n",
    "scores"
   ]
  },
  {
   "cell_type": "code",
   "execution_count": null,
   "metadata": {},
   "outputs": [],
   "source": []
  }
 ],
 "metadata": {
  "kernelspec": {
   "display_name": "Python 3",
   "language": "python",
   "name": "python3"
  },
  "language_info": {
   "codemirror_mode": {
    "name": "ipython",
    "version": 3
   },
   "file_extension": ".py",
   "mimetype": "text/x-python",
   "name": "python",
   "nbconvert_exporter": "python",
   "pygments_lexer": "ipython3",
   "version": "3.6.9"
  }
 },
 "nbformat": 4,
 "nbformat_minor": 2
}
