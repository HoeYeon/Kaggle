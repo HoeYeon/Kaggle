{
 "cells": [
  {
   "cell_type": "markdown",
   "metadata": {},
   "source": [
    "## Use Pretrained model to improve accuracy"
   ]
  },
  {
   "cell_type": "code",
   "execution_count": 60,
   "metadata": {},
   "outputs": [],
   "source": [
    "from keras.datasets import cifar10\n",
    "from keras.models import Sequential,load_model\n",
    "from keras.layers import Dense, Conv2D, MaxPooling2D, Flatten,Dropout,BatchNormalization,GlobalAveragePooling2D\n",
    "from keras.utils import to_categorical\n",
    "from keras.callbacks import ModelCheckpoint,EarlyStopping,ReduceLROnPlateau\n",
    "from sklearn.model_selection import train_test_split\n",
    "from keras.applications import VGG16,InceptionV3\n",
    "from keras.models import Model\n",
    "import scipy as sp\n",
    "import numpy as np\n",
    "from PIL import Image\n",
    "epochs = 20\n",
    "batch_size = 64\n",
    "num_classes = 10"
   ]
  },
  {
   "cell_type": "code",
   "execution_count": 40,
   "metadata": {},
   "outputs": [],
   "source": [
    "(x_train,y_train),(x_test,y_test) = cifar10.load_data()"
   ]
  },
  {
   "cell_type": "code",
   "execution_count": 41,
   "metadata": {},
   "outputs": [],
   "source": [
    "y_train = to_categorical(y_train,num_classes)\n",
    "y_test = to_categorical(y_test,num_classes)"
   ]
  },
  {
   "cell_type": "code",
   "execution_count": 42,
   "metadata": {},
   "outputs": [],
   "source": [
    "X_train,X_val,Y_train,Y_val = train_test_split(x_train,y_train,test_size=0.2,random_state=11)"
   ]
  },
  {
   "cell_type": "code",
   "execution_count": 43,
   "metadata": {
    "scrolled": true
   },
   "outputs": [
    {
     "data": {
      "text/plain": [
       "array([[[126, 133, 149],\n",
       "        [124, 131, 147],\n",
       "        [124, 131, 147],\n",
       "        ...,\n",
       "        [127, 134, 150],\n",
       "        [127, 134, 150],\n",
       "        [123, 130, 146]],\n",
       "\n",
       "       [[128, 136, 152],\n",
       "        [127, 134, 150],\n",
       "        [127, 134, 150],\n",
       "        ...,\n",
       "        [129, 136, 152],\n",
       "        [129, 136, 152],\n",
       "        [126, 133, 149]],\n",
       "\n",
       "       [[128, 136, 152],\n",
       "        [127, 134, 150],\n",
       "        [127, 134, 150],\n",
       "        ...,\n",
       "        [129, 136, 152],\n",
       "        [129, 136, 152],\n",
       "        [126, 133, 149]],\n",
       "\n",
       "       ...,\n",
       "\n",
       "       [[ 91, 117,  92],\n",
       "        [ 91, 114,  88],\n",
       "        [ 91, 114,  88],\n",
       "        ...,\n",
       "        [ 80, 106,  85],\n",
       "        [ 80, 106,  85],\n",
       "        [ 84, 103,  85]],\n",
       "\n",
       "       [[ 91, 117,  92],\n",
       "        [ 91, 114,  88],\n",
       "        [ 91, 114,  88],\n",
       "        ...,\n",
       "        [ 80, 106,  85],\n",
       "        [ 80, 106,  85],\n",
       "        [ 84, 103,  85]],\n",
       "\n",
       "       [[ 86, 118,  93],\n",
       "        [ 88, 113,  86],\n",
       "        [ 88, 113,  86],\n",
       "        ...,\n",
       "        [ 80, 104,  83],\n",
       "        [ 80, 104,  83],\n",
       "        [ 80, 103,  82]]], dtype=uint8)"
      ]
     },
     "execution_count": 43,
     "metadata": {},
     "output_type": "execute_result"
    }
   ],
   "source": [
    "a = X_train[0]\n",
    "np.array(Image.fromarray(a).resize((42,42)))"
   ]
  },
  {
   "cell_type": "code",
   "execution_count": 44,
   "metadata": {},
   "outputs": [],
   "source": [
    "X_train = np.array([np.array(Image.fromarray(x).resize((64,64))) for x in X_train])\n",
    "X_val = np.array([np.array(Image.fromarray(x).resize((64,64))) for x in X_val])\n",
    "X_test = np.array([np.array(Image.fromarray(x).resize((64,64))) for x in x_test])"
   ]
  },
  {
   "cell_type": "code",
   "execution_count": 45,
   "metadata": {},
   "outputs": [],
   "source": [
    "base = VGG16(weights='imagenet',\n",
    "                    include_top=False,\n",
    "                    input_shape = (64,64,3))\n"
   ]
  },
  {
   "cell_type": "code",
   "execution_count": 90,
   "metadata": {
    "scrolled": true
   },
   "outputs": [
    {
     "name": "stdout",
     "output_type": "stream",
     "text": [
      "Model: \"vgg16\"\n",
      "_________________________________________________________________\n",
      "Layer (type)                 Output Shape              Param #   \n",
      "=================================================================\n",
      "input_4 (InputLayer)         (None, 64, 64, 3)         0         \n",
      "_________________________________________________________________\n",
      "block1_conv1 (Conv2D)        (None, 64, 64, 64)        1792      \n",
      "_________________________________________________________________\n",
      "block1_conv2 (Conv2D)        (None, 64, 64, 64)        36928     \n",
      "_________________________________________________________________\n",
      "block1_pool (MaxPooling2D)   (None, 32, 32, 64)        0         \n",
      "_________________________________________________________________\n",
      "block2_conv1 (Conv2D)        (None, 32, 32, 128)       73856     \n",
      "_________________________________________________________________\n",
      "block2_conv2 (Conv2D)        (None, 32, 32, 128)       147584    \n",
      "_________________________________________________________________\n",
      "block2_pool (MaxPooling2D)   (None, 16, 16, 128)       0         \n",
      "_________________________________________________________________\n",
      "block3_conv1 (Conv2D)        (None, 16, 16, 256)       295168    \n",
      "_________________________________________________________________\n",
      "block3_conv2 (Conv2D)        (None, 16, 16, 256)       590080    \n",
      "_________________________________________________________________\n",
      "block3_conv3 (Conv2D)        (None, 16, 16, 256)       590080    \n",
      "_________________________________________________________________\n",
      "block3_pool (MaxPooling2D)   (None, 8, 8, 256)         0         \n",
      "_________________________________________________________________\n",
      "block4_conv1 (Conv2D)        (None, 8, 8, 512)         1180160   \n",
      "_________________________________________________________________\n",
      "block4_conv2 (Conv2D)        (None, 8, 8, 512)         2359808   \n",
      "_________________________________________________________________\n",
      "block4_conv3 (Conv2D)        (None, 8, 8, 512)         2359808   \n",
      "_________________________________________________________________\n",
      "block4_pool (MaxPooling2D)   (None, 4, 4, 512)         0         \n",
      "_________________________________________________________________\n",
      "block5_conv1 (Conv2D)        (None, 4, 4, 512)         2359808   \n",
      "=================================================================\n",
      "Total params: 9,995,072\n",
      "Trainable params: 0\n",
      "Non-trainable params: 9,995,072\n",
      "_________________________________________________________________\n"
     ]
    }
   ],
   "source": [
    "base.summary()\n",
    "base.layers.pop()\n",
    "inputs = base.layers[-3].output"
   ]
  },
  {
   "cell_type": "code",
   "execution_count": 103,
   "metadata": {},
   "outputs": [
    {
     "name": "stdout",
     "output_type": "stream",
     "text": [
      "Model: \"vgg16\"\n",
      "_________________________________________________________________\n",
      "Layer (type)                 Output Shape              Param #   \n",
      "=================================================================\n",
      "input_4 (InputLayer)         (None, 64, 64, 3)         0         \n",
      "_________________________________________________________________\n",
      "block1_conv1 (Conv2D)        (None, 64, 64, 64)        1792      \n",
      "_________________________________________________________________\n",
      "block1_conv2 (Conv2D)        (None, 64, 64, 64)        36928     \n",
      "_________________________________________________________________\n",
      "block1_pool (MaxPooling2D)   (None, 32, 32, 64)        0         \n",
      "_________________________________________________________________\n",
      "block2_conv1 (Conv2D)        (None, 32, 32, 128)       73856     \n",
      "_________________________________________________________________\n",
      "block2_conv2 (Conv2D)        (None, 32, 32, 128)       147584    \n",
      "_________________________________________________________________\n",
      "block2_pool (MaxPooling2D)   (None, 16, 16, 128)       0         \n",
      "_________________________________________________________________\n",
      "block3_conv1 (Conv2D)        (None, 16, 16, 256)       295168    \n",
      "_________________________________________________________________\n",
      "block3_conv2 (Conv2D)        (None, 16, 16, 256)       590080    \n",
      "_________________________________________________________________\n",
      "block3_conv3 (Conv2D)        (None, 16, 16, 256)       590080    \n",
      "_________________________________________________________________\n",
      "block3_pool (MaxPooling2D)   (None, 8, 8, 256)         0         \n",
      "_________________________________________________________________\n",
      "block4_conv1 (Conv2D)        (None, 8, 8, 512)         1180160   \n",
      "_________________________________________________________________\n",
      "block4_conv2 (Conv2D)        (None, 8, 8, 512)         2359808   \n",
      "_________________________________________________________________\n",
      "block4_conv3 (Conv2D)        (None, 8, 8, 512)         2359808   \n",
      "_________________________________________________________________\n",
      "block4_pool (MaxPooling2D)   (None, 4, 4, 512)         0         \n",
      "=================================================================\n",
      "Total params: 7,635,264\n",
      "Trainable params: 0\n",
      "Non-trainable params: 7,635,264\n",
      "_________________________________________________________________\n"
     ]
    }
   ],
   "source": [
    "base.summary()"
   ]
  },
  {
   "cell_type": "code",
   "execution_count": 91,
   "metadata": {},
   "outputs": [],
   "source": [
    "for layer in base.layers:\n",
    "     layer.trainable = False"
   ]
  },
  {
   "cell_type": "code",
   "execution_count": 97,
   "metadata": {
    "scrolled": true
   },
   "outputs": [],
   "source": [
    "'''x = Flatten()(inputs)\n",
    "x = BatchNormalization()(x)\n",
    "x = Dense(256,activation='relu')(x)'''\n",
    "x = Conv2D(512,(3,3),activation='relu')(inputs)\n",
    "x = GlobalAveragePooling2D()(x)\n",
    "x = BatchNormalization()(x)\n",
    "x = Dropout(0.6)(x)\n",
    "x = Dense(num_classes,activation='softmax')(x)\n",
    "model = Model(base.input,x)"
   ]
  },
  {
   "cell_type": "code",
   "execution_count": 98,
   "metadata": {
    "scrolled": true
   },
   "outputs": [
    {
     "name": "stdout",
     "output_type": "stream",
     "text": [
      "Model: \"model_14\"\n",
      "_________________________________________________________________\n",
      "Layer (type)                 Output Shape              Param #   \n",
      "=================================================================\n",
      "input_4 (InputLayer)         (None, 64, 64, 3)         0         \n",
      "_________________________________________________________________\n",
      "block1_conv1 (Conv2D)        (None, 64, 64, 64)        1792      \n",
      "_________________________________________________________________\n",
      "block1_conv2 (Conv2D)        (None, 64, 64, 64)        36928     \n",
      "_________________________________________________________________\n",
      "block1_pool (MaxPooling2D)   (None, 32, 32, 64)        0         \n",
      "_________________________________________________________________\n",
      "block2_conv1 (Conv2D)        (None, 32, 32, 128)       73856     \n",
      "_________________________________________________________________\n",
      "block2_conv2 (Conv2D)        (None, 32, 32, 128)       147584    \n",
      "_________________________________________________________________\n",
      "block2_pool (MaxPooling2D)   (None, 16, 16, 128)       0         \n",
      "_________________________________________________________________\n",
      "block3_conv1 (Conv2D)        (None, 16, 16, 256)       295168    \n",
      "_________________________________________________________________\n",
      "block3_conv2 (Conv2D)        (None, 16, 16, 256)       590080    \n",
      "_________________________________________________________________\n",
      "block3_conv3 (Conv2D)        (None, 16, 16, 256)       590080    \n",
      "_________________________________________________________________\n",
      "block3_pool (MaxPooling2D)   (None, 8, 8, 256)         0         \n",
      "_________________________________________________________________\n",
      "block4_conv1 (Conv2D)        (None, 8, 8, 512)         1180160   \n",
      "_________________________________________________________________\n",
      "block4_conv2 (Conv2D)        (None, 8, 8, 512)         2359808   \n",
      "_________________________________________________________________\n",
      "conv2d_194 (Conv2D)          (None, 6, 6, 512)         2359808   \n",
      "_________________________________________________________________\n",
      "global_average_pooling2d_9 ( (None, 512)               0         \n",
      "_________________________________________________________________\n",
      "batch_normalization_207 (Bat (None, 512)               2048      \n",
      "_________________________________________________________________\n",
      "dropout_6 (Dropout)          (None, 512)               0         \n",
      "_________________________________________________________________\n",
      "dense_19 (Dense)             (None, 10)                5130      \n",
      "=================================================================\n",
      "Total params: 7,642,442\n",
      "Trainable params: 2,365,962\n",
      "Non-trainable params: 5,276,480\n",
      "_________________________________________________________________\n"
     ]
    }
   ],
   "source": [
    "model.summary()"
   ]
  },
  {
   "cell_type": "code",
   "execution_count": 99,
   "metadata": {},
   "outputs": [],
   "source": [
    "model.compile(loss='categorical_crossentropy',\n",
    "             optimizer = 'adam',\n",
    "             metrics=['acc'],\n",
    "             )"
   ]
  },
  {
   "cell_type": "code",
   "execution_count": 100,
   "metadata": {},
   "outputs": [],
   "source": [
    "model_save_path = \"val_loss-{val_loss:.4f}-val_acc{val_acc:4f}.hdf5\"\n",
    "callbacks_list = [\n",
    "    EarlyStopping(\n",
    "        monitor='val_acc',\n",
    "        patience=2\n",
    "    ),\n",
    "    ModelCheckpoint(\n",
    "        model_save_path,\n",
    "        monitor='val_acc',\n",
    "        save_best_only = True\n",
    "    )\n",
    "    \n",
    "]"
   ]
  },
  {
   "cell_type": "code",
   "execution_count": 101,
   "metadata": {},
   "outputs": [
    {
     "name": "stdout",
     "output_type": "stream",
     "text": [
      "Train on 40000 samples, validate on 10000 samples\n",
      "Epoch 1/20\n",
      "40000/40000 [==============================] - 11s 271us/step - loss: 0.8270 - acc: 0.7370 - val_loss: 0.5449 - val_acc: 0.8102\n",
      "Epoch 2/20\n",
      "40000/40000 [==============================] - 11s 265us/step - loss: 0.5273 - acc: 0.8202 - val_loss: 0.4725 - val_acc: 0.8348\n",
      "Epoch 3/20\n",
      "40000/40000 [==============================] - 11s 266us/step - loss: 0.4497 - acc: 0.8440 - val_loss: 0.4123 - val_acc: 0.8570\n",
      "Epoch 4/20\n",
      "40000/40000 [==============================] - 11s 265us/step - loss: 0.4062 - acc: 0.8588 - val_loss: 0.3873 - val_acc: 0.8658\n",
      "Epoch 5/20\n",
      "40000/40000 [==============================] - 11s 266us/step - loss: 0.3671 - acc: 0.8712 - val_loss: 0.3808 - val_acc: 0.8716\n",
      "Epoch 6/20\n",
      "40000/40000 [==============================] - 11s 266us/step - loss: 0.3480 - acc: 0.8789 - val_loss: 0.3855 - val_acc: 0.8702\n",
      "Epoch 7/20\n",
      "40000/40000 [==============================] - 11s 268us/step - loss: 0.3252 - acc: 0.8852 - val_loss: 0.3540 - val_acc: 0.8775\n",
      "Epoch 8/20\n",
      "40000/40000 [==============================] - 10s 262us/step - loss: 0.2953 - acc: 0.8957 - val_loss: 0.3878 - val_acc: 0.8701\n",
      "Epoch 9/20\n",
      "40000/40000 [==============================] - 11s 265us/step - loss: 0.2835 - acc: 0.9000 - val_loss: 0.3590 - val_acc: 0.8782\n",
      "Epoch 10/20\n",
      "40000/40000 [==============================] - 11s 267us/step - loss: 0.2583 - acc: 0.9100 - val_loss: 0.3540 - val_acc: 0.8829\n",
      "Epoch 11/20\n",
      "40000/40000 [==============================] - 11s 266us/step - loss: 0.2408 - acc: 0.9148 - val_loss: 0.3430 - val_acc: 0.8880\n",
      "Epoch 12/20\n",
      "40000/40000 [==============================] - 11s 264us/step - loss: 0.2277 - acc: 0.9199 - val_loss: 0.3462 - val_acc: 0.8861\n",
      "Epoch 13/20\n",
      "40000/40000 [==============================] - 11s 267us/step - loss: 0.2158 - acc: 0.9223 - val_loss: 0.3448 - val_acc: 0.8871\n"
     ]
    }
   ],
   "source": [
    "history = model.fit(X_train,Y_train,\n",
    "         batch_size = batch_size,\n",
    "         epochs = epochs,\n",
    "         validation_data = (X_val,Y_val),\n",
    "         callbacks = callbacks_list)"
   ]
  },
  {
   "cell_type": "code",
   "execution_count": 102,
   "metadata": {},
   "outputs": [
    {
     "name": "stdout",
     "output_type": "stream",
     "text": [
      "10000/10000 [==============================] - 2s 217us/step\n"
     ]
    },
    {
     "data": {
      "text/plain": [
       "[0.351914974462986, 0.8827999830245972]"
      ]
     },
     "execution_count": 102,
     "metadata": {},
     "output_type": "execute_result"
    }
   ],
   "source": [
    "tt = load_model('val_loss-0.3430-val_acc0.888000.hdf5')\n",
    "scores = tt.evaluate(X_test,y_test,verbose=1)\n",
    "scores"
   ]
  },
  {
   "cell_type": "markdown",
   "metadata": {},
   "source": [
    "## VGG16 = 0.823, img_size = 48,48\n",
    "## VGG16 = 0.854, img_size = 64,64\n",
    "## VGG16 = 0.882, img_size = 64,64 --> with GAP\n"
   ]
  },
  {
   "cell_type": "code",
   "execution_count": null,
   "metadata": {},
   "outputs": [],
   "source": []
  }
 ],
 "metadata": {
  "kernelspec": {
   "display_name": "Python 3",
   "language": "python",
   "name": "python3"
  },
  "language_info": {
   "codemirror_mode": {
    "name": "ipython",
    "version": 3
   },
   "file_extension": ".py",
   "mimetype": "text/x-python",
   "name": "python",
   "nbconvert_exporter": "python",
   "pygments_lexer": "ipython3",
   "version": "3.6.9"
  }
 },
 "nbformat": 4,
 "nbformat_minor": 2
}
